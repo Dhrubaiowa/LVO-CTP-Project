{
 "cells": [
  {
   "cell_type": "code",
   "execution_count": 1,
   "id": "eleven-prospect",
   "metadata": {},
   "outputs": [],
   "source": [
    "import tensorflow as tf\n",
    "\n",
    "from tensorflow.compat.v1.keras.backend import set_session\n",
    "\n",
    "config = tf.compat.v1.ConfigProto()\n",
    "config.gpu_options.allow_growth = True\n",
    "sess = tf.compat.v1.Session(config=config)\n",
    "set_session(sess) "
   ]
  },
  {
   "cell_type": "code",
   "execution_count": 2,
   "id": "necessary-receptor",
   "metadata": {},
   "outputs": [],
   "source": [
    "import numpy as np\n",
    "import functools\n",
    "import random\n",
    "import datetime\n",
    "import scipy\n",
    "import h5py\n",
    "import os\n",
    "import pathlib\n",
    "import nrrd\n",
    "import SimpleITK as sitk\n",
    "import matplotlib.pyplot as plt\n",
    "import matplotlib\n",
    "import sys\n",
    "import json\n",
    "import skimage\n",
    "from skimage import io, draw\n",
    "from tensorflow.keras import layers\n",
    "from tensorflow.keras.layers import *\n",
    "from tensorflow.keras.models import *\n",
    "from tensorflow.keras.utils import plot_model, to_categorical\n",
    "from tensorflow.keras import backend as K\n",
    "from tensorflow import losses, optimizers\n",
    "from tensorflow.keras.optimizers import *\n",
    "from tensorflow.keras.callbacks import ModelCheckpoint, LearningRateScheduler\n",
    "from scipy.ndimage import zoom\n",
    "from tensorflow.python.framework.ops import disable_eager_execution\n",
    "disable_eager_execution()"
   ]
  },
  {
   "cell_type": "code",
   "execution_count": 1445,
   "id": "declared-biography",
   "metadata": {},
   "outputs": [],
   "source": [
    "classification_model = load_model('f5_dnsnet1.5_3mm.eph04-sen0.99-spe0.78.hdf5', compile = False)"
   ]
  },
  {
   "cell_type": "code",
   "execution_count": 1446,
   "id": "bottom-residence",
   "metadata": {},
   "outputs": [],
   "source": [
    "detection_model = load_model('fold5.epoch4-loss0.80.hdf5', compile = False)"
   ]
  },
  {
   "cell_type": "code",
   "execution_count": 1447,
   "id": "ambient-kuwait",
   "metadata": {},
   "outputs": [
    {
     "name": "stdout",
     "output_type": "stream",
     "text": [
      "(175, 128, 128, 32, 1)\n",
      "(175, 128, 128, 32, 1)\n"
     ]
    }
   ],
   "source": [
    "def create_dataset_detection(img_folder):\n",
    "   \n",
    "    img_data_array=[]\n",
    "    mask_array=[]\n",
    "    for dir1 in os.listdir(img_folder):\n",
    "        i=0\n",
    "        for file in os.listdir(os.path.join(img_folder, dir1)):\n",
    "            # reading nrrd images\n",
    "            if (file.endswith(\".nrrd\")) and (i < 5):\n",
    "                #file = glob.glob(img_folder + dir1 +'/*.nrrd')[i]\n",
    "                i = i+1\n",
    "                image_path= os.path.join(img_folder, dir1, file)\n",
    "                image, header = nrrd.read(image_path)\n",
    "                \n",
    "                image_c = np.delete(image,np.s_[113::1], axis=2) #113\n",
    "                image_c = np.delete(image_c,np.s_[:24:1], axis=2)\n",
    "                \n",
    "                image_c = zoom(image_c, (0.705, 0.588, 0.359))\n",
    "                image_c = np.array(image_c)\n",
    "                image_c [image_c<0] = 0\n",
    "                image_c = image_c / np.max(image_c)\n",
    "                image_c = image_c.astype(np.float32)\n",
    "                \n",
    "                image_c =np.rot90(np.transpose(image_c, (2, 1, 0)), 2, (1,2))\n",
    "                image_c = np.transpose(image_c, (2, 1, 0))\n",
    "                image_c = image_c[::-1, :, :]\n",
    "            \n",
    "                img_data_array.append(image_c)\n",
    "                # reading markups\n",
    "                j = 0\n",
    "            if (file.endswith(\".json\")) and j<1:\n",
    "                #json_filename = glob(img_folder +  '/*.json')[-1]\n",
    "                #data = open(json_filename,'r')\n",
    "                json_path= os.path.join(img_folder, dir1, file)\n",
    "                data = open(json_path,'r')\n",
    "                \n",
    "                jsondata = data.read()\n",
    "                # Parse\n",
    "                obj=json.loads(jsondata)\n",
    "                list=obj['markups']\n",
    "                # getting LPS coordinates\n",
    "                points1 = list[0][\"controlPoints\"][0][\"position\"]\n",
    "                points2 = list[0][\"controlPoints\"][1][\"position\"]\n",
    "                points3 = list[0][\"controlPoints\"][2][\"position\"]\n",
    "                # converting to i,j,k coordinate\n",
    "                i1 = round((points1[0]-header['space origin'][0])/header['space directions'][0][0])\n",
    "                j1 = round((points1[1]-header['space origin'][1])/header['space directions'][1][1])\n",
    "                k1 = round((points1[2]-header['space origin'][2])/header['space directions'][2][2])\n",
    "                i2 = round((points2[0]-header['space origin'][0])/header['space directions'][0][0])\n",
    "                j2 = round((points2[1]-header['space origin'][1])/header['space directions'][1][1])\n",
    "                k2 = round((points2[2]-header['space origin'][2])/header['space directions'][2][2])\n",
    "                i3 = round((points3[0]-header['space origin'][0])/header['space directions'][0][0])\n",
    "                j3 = round((points3[1]-header['space origin'][1])/header['space directions'][1][1])\n",
    "                k3 = round((points3[2]-header['space origin'][2])/header['space directions'][2][2])\n",
    "                # correcting coordinates of mask for resized image and creating mask\n",
    "                i_s = int(round((i1-(i3-i1))*0.705))  # starting points of 3D cuboid box mask\n",
    "                j_s = int(round((j1-(j2-j1))*0.588))\n",
    "\n",
    "                i_e = int(round((i1+(i3-i1))*0.705))   # ending points of 3D cuboid box mask\n",
    "                j_e = int(round((j1+(j2-j1))*0.588))\n",
    "                \n",
    "                k_s = int(round(k2-25)*0.359)  \n",
    "                k_e = int(round(k2-23)*0.359)\n",
    "                \n",
    "                # Making 3D cuboid box mask\n",
    "                rr, cc, dd = skimage.draw.rectangle(start=(i_s, j_s, k_s), end=(i_e, j_e, k_e)) \n",
    "                mask = np.zeros(shape=(image_c.shape[0], image_c.shape[1], image_c.shape[2]), dtype=\"bool\")\n",
    "                mask[rr, cc, dd] = True\n",
    "                mask = mask[:, ::-1, :]\n",
    "                all_masks = [mask] * i\n",
    "                mask_array.append(all_masks)\n",
    "        \n",
    "    return img_data_array, mask_array \n",
    "\n",
    "def combine_dims(a, i=0, n=1):\n",
    "  \"\"\"\n",
    "  Combines dimensions of numpy array `a`, starting at index `i`, and combining `n` dimensions\n",
    "  \"\"\"\n",
    "  a = np.array(a)\n",
    "  s = list(a.shape)\n",
    "  combined = functools.reduce(lambda x,y: x*y, s[i:i+n+1])\n",
    "  return np.reshape(a, s[:i] + [combined] + s[i+n+1:])\n",
    "\n",
    "\n",
    "#################################################################################\n",
    "### extract the image array and mask array\n",
    "img_data_val, mask_all_val =create_dataset_detection(r'C:/Dhruba Research Drive/MNI class/detection folds/fold 5/Yes_LVO')\n",
    "\n",
    "\n",
    "## For Validation Set ###\n",
    "mask_all_val = combine_dims(mask_all_val, 0) # combines dimension 1 and 2\n",
    "#imgs.shape\n",
    "img_data_val=np.array(img_data_val, np.float32)\n",
    "#print(x1.shape)\n",
    "mask_all_val=np.array(mask_all_val, np.float32)\n",
    "#print(y1.shape)\n",
    "\n",
    "X_val = np.expand_dims(img_data_val, axis=4)\n",
    "y_val = np.expand_dims(mask_all_val, axis=4)\n",
    "\n",
    "print(X_val.shape)\n",
    "print(y_val.shape)"
   ]
  },
  {
   "cell_type": "code",
   "execution_count": 1448,
   "id": "electoral-internet",
   "metadata": {},
   "outputs": [
    {
     "name": "stdout",
     "output_type": "stream",
     "text": [
      "(115, 128, 128, 32, 1)\n",
      "(115, 128, 128, 32, 1)\n"
     ]
    }
   ],
   "source": [
    "def create_dataset_detection_n(img_folder):\n",
    "   \n",
    "    img_data_array=[]\n",
    "    mask_array=[]\n",
    "    for dir1 in os.listdir(img_folder):\n",
    "        i=0\n",
    "        for file in os.listdir(os.path.join(img_folder, dir1)):\n",
    "            # reading nrrd images\n",
    "            if (file.endswith(\".nrrd\")) and (i < 5):\n",
    "                #file = glob.glob(img_folder + dir1 +'/*.nrrd')[i]\n",
    "                i = i+1\n",
    "                image_path= os.path.join(img_folder, dir1, file)\n",
    "                image, header = nrrd.read(image_path)\n",
    "                \n",
    "                image_c = np.delete(image,np.s_[113::1], axis=2)\n",
    "                image_c = np.delete(image_c,np.s_[:24:1], axis=2)\n",
    "                \n",
    "                image_c = zoom(image_c, (0.705, 0.588, 0.359)) #1.438 for 128x128x128 and 0.359 for 128x128x32\n",
    "                image_c = np.array(image_c)\n",
    "                image_c [image_c<0] = 0\n",
    "                image_c = image_c / np.max(image_c)\n",
    "                image_c = image_c.astype(np.float32)\n",
    "                \n",
    "                image_c =np.rot90(np.transpose(image_c, (2, 1, 0)), 2, (1,2))\n",
    "                image_c = np.transpose(image_c, (2, 1, 0))\n",
    "                image_c = image_c[::-1, :, :]\n",
    "                img_data_array.append(image_c)\n",
    "\n",
    "                # mask without json for normal patient (without LVO)\n",
    "                mask = np.zeros(shape=(image_c.shape[0], image_c.shape[1], image_c.shape[2]), dtype=\"bool\")\n",
    "                mask = mask[:, ::-1, :]\n",
    "                mask_array.append(mask)\n",
    "        \n",
    "    return img_data_array, mask_array \n",
    "\n",
    "def combine_dims(a, i=0, n=1):\n",
    "  \"\"\"\n",
    "  Combines dimensions of numpy array `a`, starting at index `i`, and combining `n` dimensions\n",
    "  \"\"\"\n",
    "  a = np.array(a)\n",
    "  s = list(a.shape)\n",
    "  combined = functools.reduce(lambda x,y: x*y, s[i:i+n+1])\n",
    "  return np.reshape(a, s[:i] + [combined] + s[i+n+1:])\n",
    "\n",
    "\n",
    "#################################################################################\n",
    "img_data_normal, mask_all_normal =create_dataset_detection_n(r'C:/Dhruba Research Drive/MNI class/detection folds/fold 5/No_LVO')\n",
    "\n",
    "## For Test Normal Set ###\n",
    "#mask_all_test_normal = combine_dims_n(mask_all_test_normal, 0) # combines dimension 1 and 2\n",
    "x4=np.array(img_data_normal, np.float32)\n",
    "#print(x4.shape)\n",
    "y4=np.array(mask_all_normal, np.float32)\n",
    "#print(y4.shape)\n",
    "\n",
    "X_test_n = np.expand_dims(x4, axis=4)\n",
    "y_test_n = np.expand_dims(y4, axis=4)\n",
    "\n",
    "print(X_test_n.shape)\n",
    "print(y_test_n.shape)"
   ]
  },
  {
   "cell_type": "code",
   "execution_count": 1449,
   "id": "complicated-timing",
   "metadata": {},
   "outputs": [
    {
     "name": "stdout",
     "output_type": "stream",
     "text": [
      "{'No_LVO': 0, 'Yes_LVO': 1}\n",
      "(290, 128, 128, 23, 1)\n",
      "(290,)\n"
     ]
    }
   ],
   "source": [
    "def create_dataset_class(img_folder):\n",
    "   \n",
    "    img_data_array=[]\n",
    "    class_name=[]\n",
    "   \n",
    "    for dir1 in os.listdir(img_folder):\n",
    "        for file in os.listdir(os.path.join(img_folder, dir1)):\n",
    "       \n",
    "            image_path= os.path.join(img_folder, dir1,  file)\n",
    "            image, header = nrrd.read(image_path)\n",
    "            image_c = np.delete(image,np.s_[120::1], axis=2)\n",
    "            image_c = np.delete(image_c,np.s_[:50:1], axis=2)\n",
    "            image_z = zoom(image_c, (0.705, 0.587, 0.33))\n",
    "            image_z [image_z<0] = 0\n",
    "            image_z = image_z / np.max(image_z)\n",
    "            image_z = image_z.astype(np.float32)\n",
    "            \n",
    "            img =np.rot90(np.transpose(image_z, (2, 1, 0)), 2, (1,2))\n",
    "            img = np.transpose(img, (2, 1, 0))\n",
    "            \n",
    "            img_data_array.append(img)\n",
    "            class_name.append(dir1)\n",
    "    return img_data_array, class_name\n",
    "\n",
    "# extract the image array and class name\n",
    "img_test, class_test =create_dataset_class(r'C:\\\\Dhruba Research Drive\\\\MNI class\\\\class folds\\\\fold 5')\n",
    "\n",
    "target_dict_test={k: v for v, k in enumerate(np.unique(class_test))}\n",
    "target_val_test=  [target_dict_test[class_test[i]] for i in range(len(class_test))]\n",
    "print(target_dict_test)\n",
    "\n",
    "## For Test Set ###\n",
    "#imgs.shape\n",
    "x2=np.array(img_test, np.float32)\n",
    "#print(x1.shape)\n",
    "y2=np.array(list(map(int,target_val_test)), np.float32)\n",
    "#print(y1.shape)\n",
    "\n",
    "X_test_3 = np.expand_dims(x2, axis=4)\n",
    "y_test_3 = y2\n",
    "\n",
    "print(X_test_3.shape)\n",
    "print(y_test_3.shape)"
   ]
  },
  {
   "cell_type": "code",
   "execution_count": 1450,
   "id": "modular-society",
   "metadata": {},
   "outputs": [
    {
     "name": "stdout",
     "output_type": "stream",
     "text": [
      "{'No_LVO': 0, 'Yes_LVO': 1}\n",
      "(290, 128, 128, 46, 1)\n",
      "(290,)\n"
     ]
    }
   ],
   "source": [
    "def create_dataset_class_2(img_folder):\n",
    "   \n",
    "    img_data_array=[]\n",
    "    class_name=[]\n",
    "   \n",
    "    for dir1 in os.listdir(img_folder):\n",
    "        for file in os.listdir(os.path.join(img_folder, dir1)):\n",
    "       \n",
    "            image_path= os.path.join(img_folder, dir1,  file)\n",
    "            image, header = nrrd.read(image_path)\n",
    "            image_c = np.delete(image,np.s_[120::1], axis=2)\n",
    "            image_c = np.delete(image_c,np.s_[:50:1], axis=2)\n",
    "            image_z = zoom(image_c, (0.705, 0.587, 0.66))\n",
    "            image_z [image_z<0] = 0\n",
    "            image_z = image_z / np.max(image_z)\n",
    "            image_z = image_z.astype(np.float32)\n",
    "            \n",
    "            img =np.rot90(np.transpose(image_z, (2, 1, 0)), 2, (1,2))\n",
    "            img = np.transpose(img, (2, 1, 0))\n",
    "            \n",
    "            img_data_array.append(img)\n",
    "            class_name.append(dir1)\n",
    "    return img_data_array, class_name\n",
    "\n",
    "# extract the image array and class name\n",
    "img_test, class_test =create_dataset_class_2(r'C:\\\\Dhruba Research Drive\\\\MNI class\\\\class folds\\\\fold 5')\n",
    "\n",
    "target_dict_test={k: v for v, k in enumerate(np.unique(class_test))}\n",
    "target_val_test=  [target_dict_test[class_test[i]] for i in range(len(class_test))]\n",
    "print(target_dict_test)\n",
    "\n",
    "## For Test Set ###\n",
    "#imgs.shape\n",
    "x2=np.array(img_test, np.float32)\n",
    "#print(x1.shape)\n",
    "y2=np.array(list(map(int,target_val_test)), np.float32)\n",
    "#print(y1.shape)\n",
    "\n",
    "X_test_2 = np.expand_dims(x2, axis=4)\n",
    "y_test_2 = y2\n",
    "\n",
    "print(X_test_2.shape)\n",
    "print(y_test_2.shape)"
   ]
  },
  {
   "cell_type": "code",
   "execution_count": 13,
   "id": "important-dollar",
   "metadata": {},
   "outputs": [
    {
     "name": "stdout",
     "output_type": "stream",
     "text": [
      "(128, 128, 32, 1)\n"
     ]
    },
    {
     "data": {
      "text/plain": [
       "(32, 128, 128, 1)"
      ]
     },
     "execution_count": 13,
     "metadata": {},
     "output_type": "execute_result"
    },
    {
     "data": {
      "image/png": "[encoded data removed]",
      "text/plain": [
       "<Figure size 432x288 with 1 Axes>"
      ]
     },
     "metadata": {
      "needs_background": "light"
     },
     "output_type": "display_data"
    }
   ],
   "source": [
    "slice_num = 9\n",
    "X_class_23 = X_val[0]\n",
    "#X_train_aug4 = np.expand_dims(X_train_aug4, axis=4)\n",
    "print(X_class_23.shape)\n",
    "vol = np.transpose(X_class_23, (2, 1, 0,3))\n",
    "\n",
    "gamma = [.65]\n",
    "\n",
    "volume = np.power(vol, gamma[0]) \n",
    "volume[volume < 0] = 0\n",
    "\n",
    "plt.imshow(volume[slice_num], cmap = 'gray')\n",
    "vol.shape"
   ]
  },
  {
   "cell_type": "code",
   "execution_count": 1768,
   "id": "cathedral-ratio",
   "metadata": {},
   "outputs": [
    {
     "name": "stdout",
     "output_type": "stream",
     "text": [
      "1.0\n",
      "LVO Patient\n"
     ]
    },
    {
     "data": {
      "image/png": "[encoded data removed]",
      "text/plain": [
       "<Figure size 864x576 with 3 Axes>"
      ]
     },
     "metadata": {
      "needs_background": "light"
     },
     "output_type": "display_data"
    },
    {
     "data": {
      "image/png": "[encoded data removed]",
      "text/plain": [
       "<Figure size 1080x2160 with 30 Axes>"
      ]
     },
     "metadata": {
      "needs_background": "light"
     },
     "output_type": "display_data"
    }
   ],
   "source": [
    "THRESHOLD =0.9\n",
    "class_img_number = 122     #0-119 NonLVO\n",
    "test_img_1 = X_test_2[class_img_number]\n",
    "test_img_2 = X_test_3[class_img_number]\n",
    "ground_truth = y_test_3[class_img_number]\n",
    "test_img_input_1 = np.expand_dims(test_img_1, 0)\n",
    "test_img_input_2 = np.expand_dims(test_img_2, 0)\n",
    "test_pred = classification_model.predict([test_img_input_2, test_img_input_1])\n",
    "print(y_test_3[class_img_number])\n",
    "if test_pred>THRESHOLD: \n",
    "    print('LVO Patient')\n",
    "    test_img_number = class_img_number - 115\n",
    "    test_img = X_val[test_img_number] ##X_val for LVO; X_test_n for non LVO\n",
    "    ground_truth=y_val[test_img_number]\n",
    "    test_img_input = np.expand_dims(test_img, 0)\n",
    "    test_pred1 = detection_model.predict(test_img_input)\n",
    "    \n",
    "    #test_prediction1 = test_pred1[0, :, :, :, 0]>=0.5\n",
    "    test_prediction1 = (test_pred1[0, :, :, :, 0] > THRESHOLD).astype(np.uint8)\n",
    "    ground_truth_argmax = ground_truth[:, :, :, 0]\n",
    "    slice = 9\n",
    "    plt.figure(figsize=(12,8))\n",
    "    plt.subplot(231)\n",
    "    plt.title('Testing Image')\n",
    "    x_t=np.transpose(test_img, (2, 1, 0, 3))\n",
    "    #x_t = x_t[:, :, :, 0]\n",
    "    plt.imshow(x_t[slice], cmap='gray')\n",
    "    #plt.imshow(test_img[slice,:,:,0], cmap='gray')\n",
    "\n",
    "    plt.subplot(232)\n",
    "    plt.title('Testing Label')\n",
    "    y_t=np.transpose(ground_truth_argmax, (2, 1, 0))\n",
    "    plt.imshow(y_t[slice], cmap ='gray')\n",
    "\n",
    "    plt.subplot(233)\n",
    "    plt.title('Prediction on test image')\n",
    "    y_p = np.transpose(test_prediction1, (2, 1, 0))\n",
    "    plt.imshow(y_p[slice], cmap = 'gray')\n",
    "    plt.show()\n",
    "\n",
    "    plt.figure(figsize=(15,30))\n",
    "    for i in range(30):\n",
    "        plt.subplot(10, 10, i+1)\n",
    "        plt.imshow(y_p[(i+1)], cmap='gray')      \n",
    "else:\n",
    "    print('Normal Patient')"
   ]
  },
  {
   "cell_type": "code",
   "execution_count": 873,
   "id": "ranging-packaging",
   "metadata": {},
   "outputs": [
    {
     "data": {
      "text/plain": [
       "12"
      ]
     },
     "execution_count": 873,
     "metadata": {},
     "output_type": "execute_result"
    }
   ],
   "source": [
    "#np.set_printoptions(threshold=sys.maxsize)\n",
    "np.sum(test_prediction1)"
   ]
  },
  {
   "cell_type": "code",
   "execution_count": 29,
   "id": "sunrise-environment",
   "metadata": {},
   "outputs": [
    {
     "name": "stdout",
     "output_type": "stream",
     "text": [
      "(128, 128, 32)\n",
      "(128, 128, 32)\n"
     ]
    },
    {
     "data": {
      "image/png": "[encoded data removed]",
      "text/plain": [
       "<Figure size 864x576 with 3 Axes>"
      ]
     },
     "metadata": {
      "needs_background": "light"
     },
     "output_type": "display_data"
    },
    {
     "data": {
      "image/png": "[encoded data removed]",
      "text/plain": [
       "<Figure size 1080x2160 with 30 Axes>"
      ]
     },
     "metadata": {
      "needs_background": "light"
     },
     "output_type": "display_data"
    }
   ],
   "source": [
    "#     test_img_number = 0\n",
    "#     test_img = X_val[test_img_number]\n",
    "#     ground_truth=y_val[test_img_number]\n",
    "#     test_img_input = np.expand_dims(test_img, 0)\n",
    "#     test_pred1 = detection_model.predict(test_img_input)\n",
    "    \n",
    "#     test_prediction1 = test_pred1[0, :, :, :, 0]\n",
    "#     ground_truth_argmax = ground_truth[:, :, :, 0]\n",
    "#     slice = 10  #6-7 !!!\n",
    "#     plt.figure(figsize=(12,8))\n",
    "#     plt.subplot(231)\n",
    "#     plt.title('Testing Image')\n",
    "#     x_t=np.transpose(test_img, (2, 1, 0, 3))\n",
    "#     #x_t = x_t[:, :, :, 0]\n",
    "#     plt.imshow(x_t[slice], cmap='gray')\n",
    "#     #plt.imshow(test_img[slice,:,:,0], cmap='gray')\n",
    "\n",
    "#     plt.subplot(232)\n",
    "#     plt.title('Testing Label')\n",
    "#     y_t=np.transpose(ground_truth_argmax, (2, 1, 0))\n",
    "#     plt.imshow(y_t[slice], cmap ='gray')\n",
    "\n",
    "#     plt.subplot(233)\n",
    "#     plt.title('Prediction on test image')\n",
    "#     y_p = np.transpose(test_prediction1, (2, 1, 0))\n",
    "#     plt.imshow(y_p[slice], cmap = 'gray')\n",
    "#     plt.show()\n",
    "\n",
    "#     plt.figure(figsize=(15,30))\n",
    "#     for i in range(30):\n",
    "#         plt.subplot(10, 10, i+1)\n",
    "#         plt.imshow(y_t[(i+1)], cmap='gray')\n",
    "##############################normal patient######################################\n",
    "#     test_img_number = 4\n",
    "#     test_img = X_test_n[test_img_number]\n",
    "#     ground_truth=y_test_n[test_img_number]\n",
    "#     test_img_input = np.expand_dims(test_img, 0)\n",
    "#     test_pred1 = detection_model.predict(test_img_input)\n",
    "    \n",
    "#     test_prediction1 = test_pred1[0, :, :, :, 0]\n",
    "#     ground_truth_argmax = ground_truth[:, :, :, 0]\n",
    "#     slice = 10  #6-7 !!!\n",
    "#     plt.figure(figsize=(12,8))\n",
    "#     plt.subplot(231)\n",
    "#     plt.title('Testing Image')\n",
    "#     x_t=np.transpose(test_img, (2, 1, 0, 3))\n",
    "#     #x_t = x_t[:, :, :, 0]\n",
    "#     plt.imshow(x_t[slice], cmap='gray')\n",
    "#     #plt.imshow(test_img[slice,:,:,0], cmap='gray')\n",
    "\n",
    "#     plt.subplot(232)\n",
    "#     plt.title('Testing Label')\n",
    "#     y_t=np.transpose(ground_truth_argmax, (2, 1, 0))\n",
    "#     plt.imshow(y_t[slice], cmap ='gray')\n",
    "\n",
    "#     plt.subplot(233)\n",
    "#     plt.title('Prediction on test image')\n",
    "#     y_p = np.transpose(test_prediction1, (2, 1, 0))\n",
    "#     plt.imshow(y_p[slice], cmap = 'gray')\n",
    "#     plt.show()\n",
    "\n",
    "#     plt.figure(figsize=(15,30))\n",
    "#     for i in range(30):\n",
    "#         plt.subplot(10, 10, i+1)\n",
    "#         plt.imshow(y_p[(i+1)], cmap='gray')"
   ]
  }
 ],
 "metadata": {
  "kernelspec": {
   "display_name": "Python 3",
   "language": "python",
   "name": "python3"
  },
  "language_info": {
   "codemirror_mode": {
    "name": "ipython",
    "version": 3
   },
   "file_extension": ".py",
   "mimetype": "text/x-python",
   "name": "python",
   "nbconvert_exporter": "python",
   "pygments_lexer": "ipython3",
   "version": "3.8.5"
  }
 },
 "nbformat": 4,
 "nbformat_minor": 5
}
